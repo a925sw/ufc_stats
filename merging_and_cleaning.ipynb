{
 "cells": [
  {
   "cell_type": "code",
   "execution_count": null,
   "metadata": {},
   "outputs": [],
   "source": [
    "import pandas as pd\n",
    "pd.set_option('display.max_columns', None)"
   ]
  },
  {
   "cell_type": "code",
   "execution_count": null,
   "metadata": {
    "scrolled": true
   },
   "outputs": [],
   "source": [
    "career_stats = pd.read_csv(\"data/career_fighter_stats.csv\")\n",
    "career_stats"
   ]
  },
  {
   "cell_type": "code",
   "execution_count": null,
   "metadata": {},
   "outputs": [],
   "source": [
    "career_stats = career_stats.drop(columns=[\"nickname\", \"Unnamed: 0\"])\n",
    "# career_stats = career_stats[career_stats[\"height\"].str.contains(\"-\")==False]\n",
    "# career_stats = career_stats[career_stats[\"weight\"].str.contains(\"-\")==False]\n",
    "# career_stats = career_stats[career_stats[\"DOB\"].str.contains(\"-\")==False]\n",
    "career_stats"
   ]
  },
  {
   "cell_type": "code",
   "execution_count": null,
   "metadata": {},
   "outputs": [],
   "source": [
    "fight_df = pd.read_csv(\"data/all_fights_data.csv\")\n",
    "fight_df"
   ]
  },
  {
   "cell_type": "code",
   "execution_count": null,
   "metadata": {},
   "outputs": [],
   "source": [
    "fight_df = fight_df.drop(columns=\"Unnamed: 0\")\n",
    "# fight_df = fight_df[fight_df[\"red_Control_time\"].str.contains(\"-\")==False]\n",
    "# fight_df = fight_df[fight_df[\"blue_Control_time\"].str.contains(\"-\")==False]\n",
    "fight_df.sample(30)"
   ]
  },
  {
   "cell_type": "code",
   "execution_count": null,
   "metadata": {},
   "outputs": [],
   "source": [
    "event_df = pd.read_csv(\"data/event_data.csv\")\n",
    "event_df = event_df.drop(columns=\"Unnamed: 0\")\n",
    "event_df = event_df.rename(columns={\"url\": \"event_url\"})\n",
    "event_df"
   ]
  },
  {
   "cell_type": "code",
   "execution_count": null,
   "metadata": {},
   "outputs": [],
   "source": [
    "fight_df = fight_df.merge(event_df, on=\"event\")\n",
    "fight_df.head(15)"
   ]
  },
  {
   "cell_type": "code",
   "execution_count": null,
   "metadata": {},
   "outputs": [],
   "source": [
    "fight_df[\"Round\"] = fight_df[\"Round\"].str.strip(\"ROUND: \")\n",
    "fight_df[\"Time\"] = fight_df[\"Time\"].str.strip(\"TIME: \")\n",
    "# fight_df[\"weight_class\"] = fight_df[\"weight_class\"].str.strip(\"BOUT\")\n",
    "# fight_df[\"weight_class\"] = fight_df[\"weight_class\"].str.strip(\"TITLE\")\n",
    "fight_df.head(15)"
   ]
  },
  {
   "cell_type": "code",
   "execution_count": null,
   "metadata": {},
   "outputs": [],
   "source": [
    "red_career_stats = career_stats.rename(columns={\"name\": \"red_name\",\n",
    "                                                \"height\": \"red_height\",\n",
    "                                                \"weight\": \"red_weight\",\n",
    "                                                \"stance\": \"red_stance\",\n",
    "                                                \"DOB\": \"red_DOB\",\n",
    "                                                \"ufc_record\": \"red_ufc_record\",\n",
    "                                                \"SLpM\": \"red_career_SLpM\",\n",
    "                                                \"SApM\": \"red_career_SApM\",\n",
    "                                                \"Str_Acc_pct\": \"red_career_Str_Acc_pct\",\n",
    "                                                \"Str_Def_pct\": \"red_career_Str_Acc_pct\",\n",
    "                                                \"TD_Avg\": \"red_career_TD_Avg\",\n",
    "                                                \"TD_Acc_pct\": \"red_career_TD_Acc_pct\",\n",
    "                                                \"TD_Def_pct\":\"red_career_TD_Def_pct\",\n",
    "                                                \"Sub_Avg\": \"red_career_Sub_Avg\"})\n",
    "\n",
    "\n",
    "red_career_stats"
   ]
  },
  {
   "cell_type": "code",
   "execution_count": null,
   "metadata": {},
   "outputs": [],
   "source": [
    "blue_career_stats = career_stats.rename(columns={\"name\": \"blue_name\",\n",
    "                                                \"height\": \"blue_height\",\n",
    "                                                \"weight\": \"blue_weight\",\n",
    "                                                \"stance\": \"blue_stance\",\n",
    "                                                \"DOB\": \"blue_DOB\",\n",
    "                                                \"ufc_record\": \"blue_ufc_record\",\n",
    "                                                \"SLpM\": \"blue_career_SLpM\",\n",
    "                                                \"SApM\": \"blue_career_SApM\",\n",
    "                                                \"Str_Acc_pct\": \"blue_career_Str_Acc_pct\",\n",
    "                                                \"Str_Def_pct\": \"blue_career_Str_Acc_pct\",\n",
    "                                                \"TD_Avg\": \"blue_career_TD_Avg\",\n",
    "                                                \"TD_Acc_pct\": \"blue_career_TD_Acc_pct\",\n",
    "                                                \"TD_Def_pct\":\"blue_career_TD_Def_pct\",\n",
    "                                                \"Sub_Avg\": \"blue_career_Sub_Avg\"})\n",
    "\n",
    "blue_career_stats"
   ]
  },
  {
   "cell_type": "code",
   "execution_count": null,
   "metadata": {},
   "outputs": [],
   "source": [
    "fight_df = fight_df.merge(red_career_stats, how=\"inner\", on=\"red_name\")\n",
    "fight_df = fight_df.merge(blue_career_stats, how=\"inner\", on=\"blue_name\")\n",
    "fight_df"
   ]
  },
  {
   "cell_type": "code",
   "execution_count": null,
   "metadata": {},
   "outputs": [],
   "source": [
    "fight_df = fight_df.dropna()\n",
    "fight_df = fight_df[fight_df[\"red_Control_time\"].str.contains(\"-\")==False]\n",
    "fight_df = fight_df[fight_df[\"blue_Control_time\"].str.contains(\"-\")==False]\n",
    "fight_df = fight_df[fight_df[\"red_DOB\"].str.contains(\"-\")==False]\n",
    "fight_df = fight_df[fight_df[\"blue_DOB\"].str.contains(\"-\")==False]\n",
    "fight_df"
   ]
  }
 ],
 "metadata": {
  "kernelspec": {
   "display_name": "Python 3",
   "language": "python",
   "name": "python3"
  },
  "language_info": {
   "codemirror_mode": {
    "name": "ipython",
    "version": 3
   },
   "file_extension": ".py",
   "mimetype": "text/x-python",
   "name": "python",
   "nbconvert_exporter": "python",
   "pygments_lexer": "ipython3",
   "version": "3.7.6"
  }
 },
 "nbformat": 4,
 "nbformat_minor": 4
}
